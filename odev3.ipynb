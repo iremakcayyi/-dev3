{
 "cells": [
  {
   "cell_type": "code",
   "execution_count": 3,
   "id": "e590b74c",
   "metadata": {},
   "outputs": [],
   "source": [
    "def alan_daire(pi, yaricap):\n",
    "    alan= pi* yaricap**2\n",
    "    return alan\n",
    "    "
   ]
  },
  {
   "cell_type": "code",
   "execution_count": 4,
   "id": "0c9a3e8b",
   "metadata": {},
   "outputs": [
    {
     "data": {
      "text/plain": [
       "75"
      ]
     },
     "execution_count": 4,
     "metadata": {},
     "output_type": "execute_result"
    }
   ],
   "source": [
    "alan_daire(3,5)"
   ]
  },
  {
   "cell_type": "code",
   "execution_count": 5,
   "id": "37ea9c29",
   "metadata": {},
   "outputs": [
    {
     "name": "stdout",
     "output_type": "stream",
     "text": [
      "Lütfen pi değerini girin (örneğin, 3.14): 5\n",
      "Lütfen dairenin yarıçapını girin: 2\n",
      "Dairenin Alanı: 20.0\n"
     ]
    }
   ],
   "source": [
    "pi = float(input(\"Lütfen pi değerini girin (örneğin, 3.14): \"))\n",
    "yaricap = float(input(\"Lütfen dairenin yarıçapını girin: \"))\n",
    "\n",
    "sonuc = alan_daire(pi, yaricap)\n",
    "print(f\"Dairenin Alanı: {sonuc}\")\n"
   ]
  },
  {
   "cell_type": "code",
   "execution_count": 24,
   "id": "09d70885",
   "metadata": {},
   "outputs": [
    {
     "name": "stdout",
     "output_type": "stream",
     "text": [
      "Faktöriyelini hesaplamak istediğiniz sayıyı girin: 6\n",
      "6 sayısının faktöriyeli: 720\n"
     ]
    }
   ],
   "source": [
    "def faktoriyel_hesapla(sayi):\n",
    "    faktoriyel = 1\n",
    "    for i in range(1, sayi + 1):\n",
    "        faktoriyel *= i\n",
    "    return faktoriyel\n",
    "\n",
    "try:\n",
    "    girilen_sayi = int(input(\"Faktöriyelini hesaplamak istediğiniz sayıyı girin: \"))\n",
    "\n",
    "    if girilen_sayi < 0:\n",
    "        print(\"Negatif sayıların faktöriyeli hesaplanamaz.\")\n",
    "    else:\n",
    "        sonuc = faktoriyel_hesapla(girilen_sayi)\n",
    "        print(\"{} sayısının faktöriyeli: {}\".format(girilen_sayi, sonuc))\n",
    "\n",
    "except ValueError:\n",
    "    print(\"Hatalı giriş. Lütfen bir tam sayı girin.\")"
   ]
  },
  {
   "cell_type": "code",
   "execution_count": 41,
   "id": "9fd020cb",
   "metadata": {},
   "outputs": [
    {
     "name": "stdout",
     "output_type": "stream",
     "text": [
      "Doğum yılınızı girin: 2001\n",
      "İçinde bulunduğunuz yılı girin: 2024\n",
      "Şu anki yaşınız: 23\n"
     ]
    }
   ],
   "source": [
    "def yas_hesapla(dogum_yili):\n",
    "    yas = simdiki_yil - dogum_yili\n",
    "    return yas\n",
    "\n",
    "try:\n",
    "    dogum_yili = int(input(\"Doğum yılınızı girin: \"))\n",
    "    simdiki_yil = int(input(\"İçinde bulunduğunuz yılı girin: \"))\n",
    "    \n",
    "    if dogum_yili > 2024 or dogum_yili <= 0:\n",
    "        print(\"Geçersiz doğum yılı. Lütfen doğru bir yıl girin.\")\n",
    "    else:\n",
    "        kisi_yasi = yas_hesapla(dogum_yili)\n",
    "        print(\"Şu anki yaşınız: {}\".format(kisi_yasi))\n",
    "\n",
    "except ValueError:\n",
    "    print(\"Hatalı giriş. Lütfen bir tam sayı girin.\")\n",
    "    "
   ]
  },
  {
   "cell_type": "code",
   "execution_count": 46,
   "id": "1968bde0",
   "metadata": {},
   "outputs": [
    {
     "name": "stdout",
     "output_type": "stream",
     "text": [
      "İsminizi girin: irem\n",
      "Doğum yılınızı girin: 2001\n",
      "irem, emekliliğinize 42 yıl kaldı.\n"
     ]
    }
   ],
   "source": [
    "def emeklilik_durumu(isim, dogum_yili):\n",
    "    yasi= yas_hesapla(dogum_yili)\n",
    "    \n",
    "    if yasi>= 65:\n",
    "        print(f\"{isim}, emekli oldunuz.\")\n",
    "    else:\n",
    "        kalan_yil= 65-yasi\n",
    "        print(f\"{isim}, emekliliğinize {kalan_yil} yıl kaldı.\")\n",
    "isim = input(\"İsminizi girin: \")\n",
    "dogum_yili_str = input(\"Doğum yılınızı girin: \")\n",
    "emeklilik_durumu(isim, dogum_yili)\n"
   ]
  }
 ],
 "metadata": {
  "kernelspec": {
   "display_name": "Python 3 (ipykernel)",
   "language": "python",
   "name": "python3"
  },
  "language_info": {
   "codemirror_mode": {
    "name": "ipython",
    "version": 3
   },
   "file_extension": ".py",
   "mimetype": "text/x-python",
   "name": "python",
   "nbconvert_exporter": "python",
   "pygments_lexer": "ipython3",
   "version": "3.11.5"
  }
 },
 "nbformat": 4,
 "nbformat_minor": 5
}
